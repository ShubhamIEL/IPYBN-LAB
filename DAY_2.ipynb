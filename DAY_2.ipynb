{
 "cells": [
  {
   "cell_type": "code",
   "execution_count": 3,
   "id": "6b1158ef",
   "metadata": {},
   "outputs": [
    {
     "name": "stdout",
     "output_type": "stream",
     "text": [
      "[1, 4, 9, 16, 25]\n"
     ]
    }
   ],
   "source": [
    "squares = [x**2 for x in range(1, 6)]\n",
    "print(squares) "
   ]
  },
  {
   "cell_type": "code",
   "execution_count": 5,
   "id": "beda5cba",
   "metadata": {},
   "outputs": [
    {
     "name": "stdout",
     "output_type": "stream",
     "text": [
      "TOO LOWW!\n",
      "TOO LOWW!\n",
      "TOO HIGH!\n",
      " You Guess correct no 8 in 4 Tries!!\n"
     ]
    }
   ],
   "source": [
    "import random\n",
    "\n",
    "number = random.randint(1,20)\n",
    "attempts =0\n",
    "\n",
    "while True:\n",
    "    guess = int(input(\"Guess a number between 1-20: \"))\n",
    "    attempts +=1\n",
    "\n",
    "    if guess< number:\n",
    "        print(\"TOO LOWW!\")\n",
    "    elif guess>number:\n",
    "        print(\"TOO HIGH!\")\n",
    "    else:\n",
    "        print(f\" You Guess correct no {number} in {attempts} Tries!!\")\n",
    "        break"
   ]
  },
  {
   "cell_type": "code",
   "execution_count": null,
   "id": "a541189a",
   "metadata": {},
   "outputs": [],
   "source": []
  }
 ],
 "metadata": {
  "kernelspec": {
   "display_name": ".venv (3.12.11)",
   "language": "python",
   "name": "python3"
  },
  "language_info": {
   "codemirror_mode": {
    "name": "ipython",
    "version": 3
   },
   "file_extension": ".py",
   "mimetype": "text/x-python",
   "name": "python",
   "nbconvert_exporter": "python",
   "pygments_lexer": "ipython3",
   "version": "3.12.11"
  }
 },
 "nbformat": 4,
 "nbformat_minor": 5
}
