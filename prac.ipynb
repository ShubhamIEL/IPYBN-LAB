{
 "cells": [
  {
   "cell_type": "code",
   "execution_count": 2,
   "id": "7e2443d7",
   "metadata": {},
   "outputs": [
    {
     "name": "stdout",
     "output_type": "stream",
     "text": [
      "[1 2 3 4 5]\n",
      "<class 'numpy.ndarray'>\n"
     ]
    }
   ],
   "source": [
    "import numpy as np \n",
    "\n",
    "arr = np.array([1,2,3,4,5])\n",
    "print(arr)\n",
    "print(type(arr))"
   ]
  },
  {
   "cell_type": "code",
   "execution_count": 16,
   "id": "ab0f94b3",
   "metadata": {},
   "outputs": [
    {
     "name": "stdout",
     "output_type": "stream",
     "text": [
      "[1 2 3 4]\n",
      "[ 1  2  3  4  5  6  7  8  9 10]\n",
      "[0.  0.5 1.  1.5 2. ]\n",
      "[2 2 1 2 2]\n"
     ]
    }
   ],
   "source": [
    "a = np.array([1, 2, 3, 4])     \n",
    "b = np.arange(1, 11)       \n",
    "c = np.linspace(0, 2, 5)         # 5 numbers between 0 and 1\n",
    "d = np.random.randint(1, 3, 5) \n",
    "\n",
    "print(a)\n",
    "print(b)\n",
    "print(c)\n",
    "print(d)\n"
   ]
  },
  {
   "cell_type": "code",
   "execution_count": 18,
   "id": "7a3c97f1",
   "metadata": {},
   "outputs": [
    {
     "name": "stdout",
     "output_type": "stream",
     "text": [
      "[ 0  1  2  3  4  5  6  7  8  9 10 11]\n",
      "(12,)\n",
      "1\n",
      "(3, 4)\n"
     ]
    }
   ],
   "source": [
    "arr = np.arange(12)       # 0 to 11\n",
    "print(arr)    \n",
    "print(arr.shape)          # (12,) → 1D\n",
    "print(arr.ndim)           # 1 dimension\n",
    "reshaped = arr.reshape(3, 4) # 3x4 matrix\n",
    "print(reshaped.shape)     # (3,4)\n"
   ]
  },
  {
   "cell_type": "code",
   "execution_count": 4,
   "id": "1490bc9a",
   "metadata": {},
   "outputs": [
    {
     "name": "stdout",
     "output_type": "stream",
     "text": [
      "[10 20 30]\n",
      "[[0. 0. 0.]\n",
      " [0. 0. 0.]] \n",
      "\n",
      "[[1. 1. 1.]\n",
      " [1. 1. 1.]\n",
      " [1. 1. 1.]] \n",
      "\n",
      "[[0.05144667 0.57650569 0.2778446 ]\n",
      " [0.77448706 0.68914266 0.49451007]] \n",
      "\n",
      "[1 3 5 7 9] \n",
      "\n",
      "[0.   0.25 0.5  0.75 1.  ] \n",
      "\n"
     ]
    }
   ],
   "source": [
    "# From lists\n",
    "a = np.array([10,20,30])\n",
    "\n",
    "# Zeros, ones, random\n",
    "zeros = np.zeros((2,3))\n",
    "ones = np.ones((3,3))\n",
    "rand = np.random.rand(2,3)\n",
    "\n",
    "# Range\n",
    "arr = np.arange(1,11,2)  # [1,3,5,7,9]\n",
    "lin = np.linspace(0,1,5) # evenly spaced\n",
    "\n",
    "print(a)\n",
    "\n",
    "print(zeros,\"\\n\")\n",
    "\n",
    "print(ones,\"\\n\")\n",
    "\n",
    "print(rand,\"\\n\")\n",
    "\n",
    "print(arr,\"\\n\")\n",
    "\n",
    "print(lin,\"\\n\")"
   ]
  }
 ],
 "metadata": {
  "kernelspec": {
   "display_name": ".venv (3.12.11)",
   "language": "python",
   "name": "python3"
  },
  "language_info": {
   "codemirror_mode": {
    "name": "ipython",
    "version": 3
   },
   "file_extension": ".py",
   "mimetype": "text/x-python",
   "name": "python",
   "nbconvert_exporter": "python",
   "pygments_lexer": "ipython3",
   "version": "3.12.11"
  }
 },
 "nbformat": 4,
 "nbformat_minor": 5
}
