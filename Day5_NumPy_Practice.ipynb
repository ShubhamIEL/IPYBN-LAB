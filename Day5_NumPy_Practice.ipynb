{
 "cells": [
  {
   "cell_type": "markdown",
   "id": "fb645291",
   "metadata": {},
   "source": [
    "Q1: Create a NumPy array with numbers from 1 to 20. Print the first 5 elements and the last 5 elements."
   ]
  },
  {
   "cell_type": "markdown",
   "id": "98c91ada",
   "metadata": {},
   "source": [
    "Q2: Create a 3x3 matrix of all zeros and a 3x3 matrix of all ones. Add them together."
   ]
  },
  {
   "cell_type": "markdown",
   "id": "0e207a8d",
   "metadata": {},
   "source": [
    "Q3: Create an array of 10 random integers between 1 and 100. Find the maximum, minimum, and mean."
   ]
  },
  {
   "cell_type": "markdown",
   "id": "3c558811",
   "metadata": {},
   "source": [
    "Q4: Generate an array of even numbers from 2 to 50 using arange."
   ]
  },
  {
   "cell_type": "markdown",
   "id": "b0422b43",
   "metadata": {},
   "source": [
    "Q5: Create a 1D array of 12 numbers and reshape it into a 3x4 matrix."
   ]
  },
  {
   "cell_type": "markdown",
   "id": "e2a0bf61",
   "metadata": {},
   "source": [
    "Q6: Create two 2x2 matrices and perform element-wise addition, subtraction, multiplication, and division."
   ]
  },
  {
   "cell_type": "markdown",
   "id": "e435025c",
   "metadata": {},
   "source": [
    "Q7: Create a 5x5 matrix with values from 1 to 25. Extract the second row, third column, and a 2x2 submatrix."
   ]
  },
  {
   "cell_type": "markdown",
   "id": "495cc53f",
   "metadata": {},
   "source": [
    "Q8: Generate 50 random numbers between 0 and 1. Find their mean and standard deviation."
   ]
  },
  {
   "cell_type": "markdown",
   "id": "007f0702",
   "metadata": {},
   "source": [
    "Q9: Stack two 2x3 matrices vertically and horizontally."
   ]
  },
  {
   "cell_type": "markdown",
   "id": "92a92d56",
   "metadata": {},
   "source": [
    "Q10: Mini Project: Student Scores Analysis\n",
    "- Generate random scores for 100 students in 5 subjects (0–100)\n",
    "- Find average score per subject\n",
    "- Find highest score per subject\n",
    "- Find student with highest total score"
   ]
  }
 ],
 "metadata": {},
 "nbformat": 4,
 "nbformat_minor": 5
}