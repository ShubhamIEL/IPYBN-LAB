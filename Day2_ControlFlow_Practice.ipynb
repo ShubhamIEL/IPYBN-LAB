{
 "cells": [
  {
   "cell_type": "markdown",
   "id": "e57a31bb",
   "metadata": {},
   "source": [
    "Q1: Take a number input from the user. Print 'Positive' if it's greater than 0, 'Negative' if less than 0, else 'Zero'."
   ]
  },
  {
   "cell_type": "code",
   "execution_count": null,
   "id": "6df3969c",
   "metadata": {},
   "outputs": [],
   "source": []
  },
  {
   "cell_type": "markdown",
   "id": "31888aeb",
   "metadata": {},
   "source": [
    "Q2: Take a student's marks and print the grade: A(>=90), B(>=75), C(>=50), Fail(<50)."
   ]
  },
  {
   "cell_type": "markdown",
   "id": "627e4c84",
   "metadata": {},
   "source": [
    "Q3: Print all numbers from 1 to 50 that are divisible by 5 using a for loop."
   ]
  },
  {
   "cell_type": "markdown",
   "id": "8dae93e6",
   "metadata": {},
   "source": [
    "Q4: Print all odd numbers between 1 and 20 using a while loop."
   ]
  },
  {
   "cell_type": "markdown",
   "id": "1deef011",
   "metadata": {},
   "source": [
    "Q5: Write a program that prints the multiplication table of a number entered by the user."
   ]
  },
  {
   "cell_type": "markdown",
   "id": "27194d7a",
   "metadata": {},
   "source": [
    "Q6: Using a loop, calculate the factorial of a given number."
   ]
  },
  {
   "cell_type": "code",
   "execution_count": 11,
   "id": "52ffc41c",
   "metadata": {},
   "outputs": [
    {
     "name": "stdout",
     "output_type": "stream",
     "text": [
      "Factorial of 5 is 120\n"
     ]
    }
   ],
   "source": [
    "\n",
    "def factorial(no):\n",
    "    fact=1\n",
    "    for i in range (2,no+1):\n",
    "        fact =fact * i\n",
    "    return fact\n",
    "    \n",
    "no=int(input(\"Enter number to find factorial\"))        \n",
    "print(f\"Factorial of {no} is {factorial(no)}\")\n"
   ]
  },
  {
   "cell_type": "markdown",
   "id": "0af44e48",
   "metadata": {},
   "source": [
    "Q7: Create a list of first 10 natural numbers. Use list comprehension to create a list of their squares."
   ]
  },
  {
   "cell_type": "code",
   "execution_count": null,
   "id": "565fa97a",
   "metadata": {},
   "outputs": [
    {
     "name": "stdout",
     "output_type": "stream",
     "text": [
      "[1, 4, 6, 8, 9, 3, 12, 14, 10, 5]\n",
      "[1, 16, 36, 64, 81, 9, 144, 196, 100, 25]\n"
     ]
    }
   ],
   "source": [
    "list1 =[1,4,6,8,9,3,12,14,10,5]\n",
    "list2 = [ i**2 for i in list1]\n",
    "print(list1)\n",
    "print(list2)"
   ]
  },
  {
   "cell_type": "markdown",
   "id": "a92e9f2d",
   "metadata": {},
   "source": [
    "Q8: Using list comprehension, create a list of all even numbers between 1 and 50."
   ]
  },
  {
   "cell_type": "code",
   "execution_count": 15,
   "id": "70ccfc09",
   "metadata": {},
   "outputs": [
    {
     "name": "stdout",
     "output_type": "stream",
     "text": [
      "[2, 4, 6, 8, 10, 12, 14, 16, 18, 20, 22, 24, 26, 28, 30, 32, 34, 36, 38, 40, 42, 44, 46, 48]\n"
     ]
    }
   ],
   "source": [
    "list1=[i for i in range(1,50) if i%2==0]\n",
    "print(list1)"
   ]
  },
  {
   "cell_type": "markdown",
   "id": "191bae86",
   "metadata": {},
   "source": [
    "Q9: Take a number as input and check if it is prime or not using a loop."
   ]
  },
  {
   "cell_type": "code",
   "execution_count": 22,
   "id": "47190499",
   "metadata": {},
   "outputs": [
    {
     "name": "stdout",
     "output_type": "stream",
     "text": [
      "87  is not prime\n"
     ]
    }
   ],
   "source": [
    "no=int(input(\"ENter no to check it is Prime or not : \"))\n",
    "for i in range(2,no//2):\n",
    "    if no%i == 0 :\n",
    "        print(no,\" is not prime\")\n",
    "        break\n",
    "else:\n",
    "    print(no,\" is prime\")   "
   ]
  },
  {
   "cell_type": "code",
   "execution_count": null,
   "id": "bdfb5803",
   "metadata": {},
   "outputs": [],
   "source": []
  },
  {
   "cell_type": "markdown",
   "id": "82301b8f",
   "metadata": {},
   "source": [
    "Q10: Write a program to simulate a simple menu system:\n",
    " 1. Add two numbers\n",
    " 2. Subtract two numbers\n",
    " 3. Exit\n",
    " Use loops and if-else."
   ]
  },
  {
   "cell_type": "markdown",
   "id": "e302ea47",
   "metadata": {},
   "source": []
  }
 ],
 "metadata": {
  "kernelspec": {
   "display_name": ".venv (3.12.11)",
   "language": "python",
   "name": "python3"
  },
  "language_info": {
   "codemirror_mode": {
    "name": "ipython",
    "version": 3
   },
   "file_extension": ".py",
   "mimetype": "text/x-python",
   "name": "python",
   "nbconvert_exporter": "python",
   "pygments_lexer": "ipython3",
   "version": "3.12.11"
  }
 },
 "nbformat": 4,
 "nbformat_minor": 5
}
