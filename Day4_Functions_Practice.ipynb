{
 "cells": [
  {
   "cell_type": "markdown",
   "id": "0aca8a6b",
   "metadata": {},
   "source": [
    "Q1: Write a function that takes two numbers and returns their sum."
   ]
  },
  {
   "cell_type": "code",
   "execution_count": 1,
   "id": "d32b84ca",
   "metadata": {},
   "outputs": [
    {
     "name": "stdout",
     "output_type": "stream",
     "text": [
      "11\n"
     ]
    }
   ],
   "source": [
    "def sum(a,b):\n",
    "    return a+b\n",
    "print(sum(5,6))"
   ]
  },
  {
   "cell_type": "markdown",
   "id": "09eaf76e",
   "metadata": {},
   "source": [
    "Q2: Write a function to calculate the factorial of a number (n!)."
   ]
  },
  {
   "cell_type": "code",
   "execution_count": 2,
   "id": "261b09c5",
   "metadata": {},
   "outputs": [
    {
     "name": "stdout",
     "output_type": "stream",
     "text": [
      "120\n"
     ]
    }
   ],
   "source": [
    "def factorial(no):\n",
    "    if no == 0 or no ==1 :\n",
    "        return 1\n",
    "    else:\n",
    "        return no*factorial(no-1)\n",
    "\n",
    "print(factorial(5))"
   ]
  },
  {
   "cell_type": "markdown",
   "id": "930af5e4",
   "metadata": {},
   "source": [
    "Q3: Write a function greet(name='Guest') that prints 'Hello, <name>' and test it with/without arguments."
   ]
  },
  {
   "cell_type": "code",
   "execution_count": 4,
   "id": "3838c6f3",
   "metadata": {},
   "outputs": [
    {
     "name": "stdout",
     "output_type": "stream",
     "text": [
      "Hello Shubham\n",
      "Hello Guest\n"
     ]
    }
   ],
   "source": [
    "def greet(name='Guest'):\n",
    "    print(f\"Hello {name}\")\n",
    "\n",
    "greet(\"Shubham\")\n",
    "greet()"
   ]
  },
  {
   "cell_type": "markdown",
   "id": "c5ea5199",
   "metadata": {},
   "source": [
    "Q4: Write a function that accepts *args and returns the maximum value."
   ]
  },
  {
   "cell_type": "code",
   "execution_count": 6,
   "id": "1908fbfc",
   "metadata": {},
   "outputs": [
    {
     "name": "stdout",
     "output_type": "stream",
     "text": [
      "50\n",
      "-1\n"
     ]
    }
   ],
   "source": [
    "def find_max(*arg):\n",
    "    # return max(arg)\n",
    "    max =arg[0]\n",
    "    for i in arg[1:]:\n",
    "        if i>max:\n",
    "            max=i\n",
    "    return max  \n",
    "\n",
    "print(find_max(10, 20, 5, 50, 30))   \n",
    "print(find_max(-1, -5, -3))   "
   ]
  },
  {
   "cell_type": "markdown",
   "id": "de887847",
   "metadata": {},
   "source": [
    "Q5: Write a function that accepts **kwargs and prints key : value pairs."
   ]
  },
  {
   "cell_type": "code",
   "execution_count": 10,
   "id": "6149085b",
   "metadata": {},
   "outputs": [
    {
     "name": "stdout",
     "output_type": "stream",
     "text": [
      "key : value\n",
      "name : Shubham\n",
      "age : 24\n",
      "grade : A\n",
      "key : value\n",
      "city : Pune\n",
      "role : Data Analyst\n"
     ]
    }
   ],
   "source": [
    "def show(**k):\n",
    "    print(\"key : value\")\n",
    "    for key,val in k.items():\n",
    "        print(f\"{key} : {val}\")\n",
    "\n",
    "show(name=\"Shubham\", age=24, grade=\"A\")\n",
    "show(city=\"Pune\", role=\"Data Analyst\")"
   ]
  },
  {
   "cell_type": "markdown",
   "id": "0cf1f7bd",
   "metadata": {},
   "source": [
    "Q6: Use a lambda function to find the cube of a number."
   ]
  },
  {
   "cell_type": "code",
   "execution_count": 11,
   "id": "46e8a93f",
   "metadata": {},
   "outputs": [
    {
     "name": "stdout",
     "output_type": "stream",
     "text": [
      "125\n"
     ]
    }
   ],
   "source": [
    "cube = lambda x: x**3\n",
    "print(cube(5))"
   ]
  },
  {
   "cell_type": "markdown",
   "id": "28e71a20",
   "metadata": {},
   "source": [
    "Q7: Use map with lambda to convert a list of Celsius temperatures into Fahrenheit."
   ]
  },
  {
   "cell_type": "code",
   "execution_count": 18,
   "id": "da0a3a12",
   "metadata": {},
   "outputs": [
    {
     "name": "stdout",
     "output_type": "stream",
     "text": [
      "93.2\n",
      "{0: 32.0, 10: 50.0, 20: 68.0, 30: 86.0, 40: 104.0}\n"
     ]
    }
   ],
   "source": [
    "tempC = lambda x: x*9/5 + 32\n",
    "print(tempC(34))\n",
    "\n",
    "celsius = [0, 10, 20, 30, 40]\n",
    "\n",
    "far = list(map(lambda x: x*9/5 + 32, celsius))\n",
    "\n",
    "# print(\"Celsius:\", celsius)\n",
    "# print(\"Fahrenheit:\", far)\n",
    "\n",
    "# for c,f in zip(celsius, far):\n",
    "#     print(f\"{c} : {f}\")\n",
    "\n",
    "temp = dict(zip(celsius,far))\n",
    "print(temp)"
   ]
  },
  {
   "cell_type": "markdown",
   "id": "8e6afd91",
   "metadata": {},
   "source": [
    "Q8: Use filter with lambda to extract names that start with 'A' from a list of names."
   ]
  },
  {
   "cell_type": "code",
   "execution_count": 19,
   "id": "cd4b8fbc",
   "metadata": {},
   "outputs": [
    {
     "name": "stdout",
     "output_type": "stream",
     "text": [
      "Starts with A ['Abhi', 'Anita', 'Aman']\n"
     ]
    }
   ],
   "source": [
    "names = [\"Shubham\", \"Ritik\", \"Abhi\", \"Anita\", \"Riya\", \"Aman\"]\n",
    "\n",
    "show = list(filter(lambda x: x.startswith(\"A\"),names ))\n",
    "\n",
    "print(\"Starts with A\", show)\n"
   ]
  },
  {
   "cell_type": "markdown",
   "id": "73b3abfa",
   "metadata": {},
   "source": [
    "Q9: Use reduce with lambda to multiply all elements in a list."
   ]
  },
  {
   "cell_type": "code",
   "execution_count": 22,
   "id": "8daae614",
   "metadata": {},
   "outputs": [
    {
     "name": "stdout",
     "output_type": "stream",
     "text": [
      " product of all =  120\n"
     ]
    }
   ],
   "source": [
    "from functools import reduce\n",
    "\n",
    "numbers = [2, 3, 4, 5]\n",
    "\n",
    "pro = reduce(lambda x,y : x*y,numbers)\n",
    "\n",
    "print(\" product of all = \",pro)"
   ]
  },
  {
   "cell_type": "markdown",
   "id": "c641fe65",
   "metadata": {},
   "source": [
    "Q10: Mini Project: Data Cleaning Function\n",
    "- Input: list of strings with spaces & duplicates\n",
    "- Task: strip spaces, convert to lowercase, remove duplicates\n",
    "- Example: ['  Apple','banana ','APPLE','Mango','banana'] → ['apple','banana','mango']"
   ]
  }
 ],
 "metadata": {
  "kernelspec": {
   "display_name": ".venv (3.12.11)",
   "language": "python",
   "name": "python3"
  },
  "language_info": {
   "codemirror_mode": {
    "name": "ipython",
    "version": 3
   },
   "file_extension": ".py",
   "mimetype": "text/x-python",
   "name": "python",
   "nbconvert_exporter": "python",
   "pygments_lexer": "ipython3",
   "version": "3.12.11"
  }
 },
 "nbformat": 4,
 "nbformat_minor": 5
}
