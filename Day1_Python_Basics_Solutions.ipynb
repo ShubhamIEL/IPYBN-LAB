{
 "cells": [
  {
   "cell_type": "markdown",
   "id": "d9afd18d",
   "metadata": {},
   "source": [
    "### Q1: Variables and f-string"
   ]
  },
  {
   "cell_type": "code",
   "execution_count": 1,
   "id": "be0609f8",
   "metadata": {},
   "outputs": [
    {
     "name": "stdout",
     "output_type": "stream",
     "text": [
      "My name is Shubham, I am 24 years old, I live in Pune, and I love Python.\n"
     ]
    }
   ],
   "source": [
    "name = \"Shubham\"\n",
    "age = 24\n",
    "city = \"Pune\"\n",
    "fav_lang = \"Python\"\n",
    "\n",
    "print(f\"My name is {name}, I am {age} years old, I live in {city}, and I love {fav_lang}.\")"
   ]
  },
  {
   "cell_type": "markdown",
   "id": "4b54b3fe",
   "metadata": {},
   "source": [
    "### Q2: String to int conversion"
   ]
  },
  {
   "cell_type": "code",
   "execution_count": null,
   "id": "410476df",
   "metadata": {},
   "outputs": [],
   "source": [
    "num = \"250\"\n",
    "result = int(num) + 50\n",
    "print(\"Result:\", result)"
   ]
  },
  {
   "cell_type": "markdown",
   "id": "65593cdf",
   "metadata": {},
   "source": [
    "### Q3: Two numbers operations"
   ]
  },
  {
   "cell_type": "code",
   "execution_count": null,
   "id": "7b80e4f2",
   "metadata": {},
   "outputs": [],
   "source": [
    "a = float(input(\"Enter first number: \"))\n",
    "b = float(input(\"Enter second number: \"))\n",
    "print(\"Sum:\", a+b)\n",
    "print(\"Difference:\", a-b)\n",
    "print(\"Product:\", a*b)\n",
    "print(\"Quotient:\", a/b)"
   ]
  },
  {
   "cell_type": "markdown",
   "id": "5de4479a",
   "metadata": {},
   "source": [
    "### Q4: Even or Odd"
   ]
  },
  {
   "cell_type": "code",
   "execution_count": null,
   "id": "5521762f",
   "metadata": {},
   "outputs": [],
   "source": [
    "num = int(input(\"Enter a number: \"))\n",
    "if num % 2 == 0:\n",
    "    print(\"Even\")\n",
    "else:\n",
    "    print(\"Odd\")"
   ]
  },
  {
   "cell_type": "markdown",
   "id": "ac92158d",
   "metadata": {},
   "source": [
    "### Q5: Total bill amount"
   ]
  },
  {
   "cell_type": "code",
   "execution_count": null,
   "id": "11998314",
   "metadata": {},
   "outputs": [],
   "source": [
    "p1, p2, p3 = 120, 250, 80\n",
    "total = p1 + p2 + p3\n",
    "print(\"Total Bill Amount =\", total)"
   ]
  },
  {
   "cell_type": "markdown",
   "id": "6773b440",
   "metadata": {},
   "source": [
    "### Q6: Area of Circle"
   ]
  },
  {
   "cell_type": "code",
   "execution_count": null,
   "id": "6d816f76",
   "metadata": {},
   "outputs": [],
   "source": [
    "import math\n",
    "r = float(input(\"Enter radius: \"))\n",
    "area = math.pi * r**2\n",
    "print(\"Area of circle:\", area)"
   ]
  },
  {
   "cell_type": "markdown",
   "id": "78325c74",
   "metadata": {},
   "source": [
    "### Q7: Age Calculator"
   ]
  },
  {
   "cell_type": "code",
   "execution_count": null,
   "id": "e7d864db",
   "metadata": {},
   "outputs": [],
   "source": [
    "import datetime\n",
    "birth_year = int(input(\"Enter your birth year: \"))\n",
    "current_year = datetime.datetime.now().year\n",
    "age = current_year - birth_year\n",
    "print(\"Your age is\", age)"
   ]
  },
  {
   "cell_type": "markdown",
   "id": "4a579554",
   "metadata": {},
   "source": [
    "### Q8: Swap without temp variable"
   ]
  },
  {
   "cell_type": "code",
   "execution_count": null,
   "id": "21ad6a41",
   "metadata": {},
   "outputs": [],
   "source": [
    "x, y = 5, 10\n",
    "print(\"Before swap:\", x, y)\n",
    "x, y = y, x\n",
    "print(\"After swap:\", x, y)"
   ]
  },
  {
   "cell_type": "markdown",
   "id": "5b98d7aa",
   "metadata": {},
   "source": [
    "### Q9: Celsius to Fahrenheit"
   ]
  },
  {
   "cell_type": "code",
   "execution_count": 2,
   "id": "17d19d86",
   "metadata": {},
   "outputs": [
    {
     "name": "stdout",
     "output_type": "stream",
     "text": [
      "34.0°C = 93.2°F\n"
     ]
    }
   ],
   "source": [
    "c = float(input(\"Enter temp in Celsius: \"))\n",
    "f = (c * 9/5) + 32\n",
    "print(f\"{c}°C = {f}°F\")"
   ]
  },
  {
   "cell_type": "markdown",
   "id": "20cff46f",
   "metadata": {},
   "source": [
    "### Q10: Simple Interest"
   ]
  },
  {
   "cell_type": "code",
   "execution_count": 3,
   "id": "9aad2408",
   "metadata": {},
   "outputs": [
    {
     "name": "stdout",
     "output_type": "stream",
     "text": [
      "Simple Interest = 500.0\n"
     ]
    }
   ],
   "source": [
    "p = float(input(\"Enter Principal: \"))\n",
    "r = float(input(\"Enter Rate of Interest: \"))\n",
    "t = float(input(\"Enter Time in years: \"))\n",
    "si = (p*r*t)/100\n",
    "print(\"Simple Interest =\", si)"
   ]
  },
  {
   "cell_type": "code",
   "execution_count": 8,
   "id": "af5e1409",
   "metadata": {},
   "outputs": [
    {
     "name": "stdout",
     "output_type": "stream",
     "text": [
      "Total marks = 413.0\n",
      "\n",
      "Average marks = 82.6\n",
      "\n",
      "Percentage = 82.6.\n"
     ]
    }
   ],
   "source": [
    "math=float(input(\"Enter Maths  marks out of 100:\"))\n",
    "science = float(input(\"ENter Science Marks out of 100 :\"))\n",
    "ssc=float(input(\"Enter SSC marks out of 100 :\"))\n",
    "marathi = float(input(\"ENter marathi Marks out of 100:\"))\n",
    "english = float(input(\"ENter English Marks out of 100:\"))\n",
    "total_marks = math+science+ssc+marathi+english\n",
    "average_marks= total_marks/5\n",
    "percentage = total_marks/500 * 100\n",
    "print(f\"\"\"Total marks = {total_marks}\n",
    "\n",
    "Average marks = {average_marks}\n",
    "\n",
    "Percentage = {percentage}.\"\"\")\n"
   ]
  },
  {
   "cell_type": "code",
   "execution_count": null,
   "id": "a73305b0",
   "metadata": {},
   "outputs": [],
   "source": []
  }
 ],
 "metadata": {
  "kernelspec": {
   "display_name": ".venv (3.12.11)",
   "language": "python",
   "name": "python3"
  },
  "language_info": {
   "codemirror_mode": {
    "name": "ipython",
    "version": 3
   },
   "file_extension": ".py",
   "mimetype": "text/x-python",
   "name": "python",
   "nbconvert_exporter": "python",
   "pygments_lexer": "ipython3",
   "version": "3.12.11"
  }
 },
 "nbformat": 4,
 "nbformat_minor": 5
}
