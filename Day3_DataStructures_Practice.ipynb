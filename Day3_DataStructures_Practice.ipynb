{
 "cells": [
  {
   "cell_type": "markdown",
   "id": "a3ab5c01",
   "metadata": {},
   "source": [
    "Q1: Create a list of 10 integers. Print the first 3 and last 3 elements using slicing."
   ]
  },
  {
   "cell_type": "code",
   "execution_count": 14,
   "id": "c42be37c",
   "metadata": {},
   "outputs": [
    {
     "name": "stdout",
     "output_type": "stream",
     "text": [
      "[1, 2, 3] [8, 9, 10]\n"
     ]
    }
   ],
   "source": [
    "list1=[1,2,3,4,5,6,7,8,9,10]\n",
    "print(list1[:3],list1[-3:])"
   ]
  },
  {
   "cell_type": "markdown",
   "id": "95a20100",
   "metadata": {},
   "source": [
    "Q2: Append 2 new elements to the list and remove one element by value."
   ]
  },
  {
   "cell_type": "code",
   "execution_count": 19,
   "id": "4841a631",
   "metadata": {},
   "outputs": [
    {
     "name": "stdout",
     "output_type": "stream",
     "text": [
      "[1, 2, 3, 4, 5, 6, 7, 8, 9, 10, 13]\n",
      "[1, 2, 3, 4, 5, 6, 7, 8, 9, 10, 13, 15]\n",
      "[1, 2, 3, 4, 5, 6, 7, 8, 9, 13, 15]\n"
     ]
    }
   ],
   "source": [
    "list1=[1,2,3,4,5,6,7,8,9,10]\n",
    "list1.append(13)\n",
    "print(list1)\n",
    "list1.append(15)\n",
    "print(list1)\n",
    "list1.remove(10)\n",
    "print(list1)"
   ]
  },
  {
   "cell_type": "markdown",
   "id": "918607ba",
   "metadata": {},
   "source": [
    "Q3: Create a nested list (3x3 matrix) and print the element in the second row, third column."
   ]
  },
  {
   "cell_type": "code",
   "execution_count": 22,
   "id": "83fa85dc",
   "metadata": {},
   "outputs": [
    {
     "name": "stdout",
     "output_type": "stream",
     "text": [
      "6\n"
     ]
    }
   ],
   "source": [
    "list1=[[1,2,3],[4,5,6],[7,8,9],[10]]\n",
    "print(list1[1][2])\n"
   ]
  },
  {
   "cell_type": "markdown",
   "id": "6539856f",
   "metadata": {},
   "source": [
    "Q4: Create a tuple with 5 elements. Unpack the tuple into 5 variables and print them."
   ]
  },
  {
   "cell_type": "code",
   "execution_count": 24,
   "id": "45dee7fc",
   "metadata": {},
   "outputs": [
    {
     "name": "stdout",
     "output_type": "stream",
     "text": [
      "Values after unpacking:\n",
      "Variable a = 10\n",
      "Variable b = 20\n",
      "Variable c = 30\n",
      "Variable d = 40\n",
      "Variable e = 50\n"
     ]
    }
   ],
   "source": [
    "# Create a tuple with 5 elements\n",
    "my_tuple = (10, 20, 30, 40, 50)\n",
    "\n",
    "# Unpack the tuple into variables\n",
    "a, b, c, d, e = my_tuple\n",
    "\n",
    "# Map variable names to their values\n",
    "variables = {\"a\": a, \"b\": b, \"c\": c, \"d\": d, \"e\": e}\n",
    "\n",
    "# Print using a for loop\n",
    "print(\"Values after unpacking:\")\n",
    "for name, value in variables.items():\n",
    "    print(f\"Variable {name} = {value}\")\n"
   ]
  },
  {
   "cell_type": "markdown",
   "id": "4d1f1486",
   "metadata": {},
   "source": [
    "Q5: Create a dictionary to store details of 3 students (name, age, grade). Print all student names."
   ]
  },
  {
   "cell_type": "code",
   "execution_count": 30,
   "id": "d04c5d6d",
   "metadata": {},
   "outputs": [
    {
     "name": "stdout",
     "output_type": "stream",
     "text": [
      "Student Names:\n",
      "Shubham\n",
      "Ritik\n",
      "Abhi\n"
     ]
    }
   ],
   "source": [
    "students=[\n",
    "        {\"name\":\"Shubham\",\"age\":24,\"grade\":\"A\"},\n",
    "        {\"name\":\"Ritik\",\"age\":23,\"grade\":\"B\"},\n",
    "        {\"name\":\"Abhi\",\"age\":25,\"grade\":\"A\"}\n",
    "]\n",
    "print(\"Student Names:\")\n",
    "for student in students:\n",
    "    print(student[\"name\"])\n"
   ]
  },
  {
   "cell_type": "markdown",
   "id": "fda8dc8b",
   "metadata": {},
   "source": [
    "Q6: Add a new student to the dictionary and update the grade of an existing student."
   ]
  },
  {
   "cell_type": "code",
   "execution_count": 31,
   "id": "614dcc99",
   "metadata": {},
   "outputs": [
    {
     "name": "stdout",
     "output_type": "stream",
     "text": [
      "[{'name': 'Shubham', 'age': 24, 'grade': 'A+'}, {'name': 'Ritik', 'age': 23, 'grade': 'B'}, {'name': 'Abhi', 'age': 25, 'grade': 'A'}, {'name': 'rushi', 'age': 22, 'grade': 'C'}]\n"
     ]
    }
   ],
   "source": [
    "students.append({\"name\": \"rushi\",\"age\":22,\"grade\":\"C\"})\n",
    "\n",
    " # students[1][\"grade\"] = \"A+\"\n",
    "for s in students:\n",
    "    if s[\"name\"] == \"Shubham\":\n",
    "        s[\"grade\"] = \"A+\"\n",
    "print(students)"
   ]
  },
  {
   "cell_type": "markdown",
   "id": "485811d6",
   "metadata": {},
   "source": [
    "Q7: Loop through the dictionary and print keys and values in 'key : value' format."
   ]
  },
  {
   "cell_type": "code",
   "execution_count": 37,
   "id": "a877db13",
   "metadata": {},
   "outputs": [
    {
     "name": "stdout",
     "output_type": "stream",
     "text": [
      "name : Shubham\n",
      "age : 24\n",
      "grade : A+\n",
      "\n",
      "\n",
      "name : Ritik\n",
      "age : 23\n",
      "grade : B\n",
      "\n",
      "\n",
      "name : Abhi\n",
      "age : 25\n",
      "grade : A\n",
      "\n",
      "\n",
      "name : rushi\n",
      "age : 22\n",
      "grade : C\n",
      "\n",
      "\n"
     ]
    }
   ],
   "source": [
    "for s in students:\n",
    "    for key,value in s.items():\n",
    "        print(f\"{key} : {value}\")\n",
    "    print(\"\\n\")    "
   ]
  },
  {
   "cell_type": "markdown",
   "id": "a456fb38",
   "metadata": {},
   "source": [
    "Q8: Create a set with duplicate elements and print the set to show unique elements."
   ]
  },
  {
   "cell_type": "code",
   "execution_count": 38,
   "id": "a667693b",
   "metadata": {},
   "outputs": [
    {
     "name": "stdout",
     "output_type": "stream",
     "text": [
      "Set with unique elements: {1, 2, 3, 4, 5}\n"
     ]
    }
   ],
   "source": [
    "\n",
    "numbers = {1, 2, 3, 2, 4, 1, 5, 3}\n",
    "\n",
    "\n",
    "print(\"Set with unique elements:\", numbers)\n"
   ]
  },
  {
   "cell_type": "markdown",
   "id": "846f4b42",
   "metadata": {},
   "source": [
    "Q9: Perform union and intersection of two sets and print the results."
   ]
  },
  {
   "cell_type": "code",
   "execution_count": 39,
   "id": "11a98f47",
   "metadata": {},
   "outputs": [
    {
     "name": "stdout",
     "output_type": "stream",
     "text": [
      "set 1 :  {1, 2, 3, 4}\n",
      "set 2 :  {3, 4, 5, 6}\n",
      "UNION :  {1, 2, 3, 4, 5, 6}\n",
      "intersectionSet :  {3, 4}\n"
     ]
    }
   ],
   "source": [
    "set1 = {1, 2, 3, 4}\n",
    "set2 = {3, 4, 5, 6}\n",
    "\n",
    "unionSet = set1.union(set2)\n",
    "\n",
    "intersectionSet = set1.intersection(set2)\n",
    "\n",
    "print(\"set 1 : \",set1)\n",
    "print(\"set 2 : \",set2)\n",
    "print(\"UNION : \",unionSet)\n",
    "print(\"intersectionSet : \",intersectionSet)"
   ]
  },
  {
   "cell_type": "markdown",
   "id": "b138638e",
   "metadata": {},
   "source": [
    "Q10: Mini Project: Employee Data Manager\n",
    "- Store 5 employees in a dictionary (id:{name, dept, salary})\n",
    "- Print all employee names\n",
    "- Find employees with salary > 48000\n",
    "- Add a new employee\n",
    "- Update salary of an existing employee"
   ]
  },
  {
   "cell_type": "code",
   "execution_count": 3,
   "id": "73e5df0a",
   "metadata": {},
   "outputs": [
    {
     "name": "stdout",
     "output_type": "stream",
     "text": [
      "Employee Names : \n",
      "\t Shubham\n",
      "\t Riya\n",
      "\t Amit\n",
      "\t Sara\n",
      "\t Vikram\n",
      "\n",
      "Employees with salary > 48000:\n",
      "name : Shubham \t salary : 50000\n",
      "name : Amit \t salary : 52000\n",
      "name : Vikram \t salary : 49000\n",
      "\n",
      " new EMployee Added\n",
      "{'name': 'Samarth', 'dept': 'IT', 'salary': 52000}\n",
      "\n",
      " Updates salary of Riya to 48000\n"
     ]
    }
   ],
   "source": [
    "employees = {\n",
    "    101: {\"name\": \"Shubham\",\n",
    "           \"dept\": \"IT\",\n",
    "            \"salary\": 50000},\n",
    "    102: {\"name\": \"Riya\", \"dept\": \"HR\", \"salary\": 45000},\n",
    "    103: {\"name\": \"Amit\", \"dept\": \"Finance\", \"salary\": 52000},\n",
    "    104: {\"name\": \"Sara\", \"dept\": \"Marketing\", \"salary\": 47000},\n",
    "    105: {\"name\": \"Vikram\", \"dept\": \"IT\", \"salary\": 49000},\n",
    "}\n",
    "\n",
    "print(\"Employee Names : \")\n",
    "for emp in employees.values():\n",
    "    print(\"\\t\",emp[\"name\"])\n",
    "\n",
    "print(\"\\nEmployees with salary > 48000:\")\n",
    "for emp in employees.values():\n",
    "    if emp[\"salary\"] > 48000 :\n",
    "        print(f\"name : {emp[\"name\"]} \\t salary : {emp['salary']}\")\n",
    "\n",
    "new_id = 100\n",
    "employees[new_id] = {\"name\": \"Samarth\", \"dept\": \"IT\", \"salary\": 52000}\n",
    "print(\"\\n new EMployee Added\")\n",
    "print(employees[new_id])\n",
    "\n",
    "id = 102\n",
    "employees[id][\"salary\"] = 48000\n",
    "print(f\"\\n Updates salary of {employees[id][\"name\"]} to {employees[id][\"salary\"]}\")"
   ]
  }
 ],
 "metadata": {
  "kernelspec": {
   "display_name": ".venv (3.12.11)",
   "language": "python",
   "name": "python3"
  },
  "language_info": {
   "codemirror_mode": {
    "name": "ipython",
    "version": 3
   },
   "file_extension": ".py",
   "mimetype": "text/x-python",
   "name": "python",
   "nbconvert_exporter": "python",
   "pygments_lexer": "ipython3",
   "version": "3.12.11"
  }
 },
 "nbformat": 4,
 "nbformat_minor": 5
}
